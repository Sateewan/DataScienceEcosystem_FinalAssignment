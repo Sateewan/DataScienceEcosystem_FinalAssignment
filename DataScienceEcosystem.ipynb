{
 "cells": [
  {
   "cell_type": "markdown",
   "id": "8679159b-35e1-4d27-93d9-d57b454cfefc",
   "metadata": {},
   "source": [
    "Exercise 1: Create a Jupyter Notebook\n",
    "\n",
    "Exercise 2: Create markdown cell with title of the notebook"
   ]
  },
  {
   "cell_type": "markdown",
   "id": "fda71fe2-6c49-4c63-b795-28f294246f1a",
   "metadata": {
    "tags": []
   },
   "source": [
    "# Data Science Tools and Ecosystem"
   ]
  },
  {
   "cell_type": "markdown",
   "id": "219ac2ec-9513-4875-b7fe-b9d3e2c344d0",
   "metadata": {},
   "source": [
    "Exercise 3 - Create a markdown cell for an introduction"
   ]
  },
  {
   "cell_type": "markdown",
   "id": "ee161f95-c75e-43ab-8a0f-658d011fbdaa",
   "metadata": {},
   "source": [
    "# In this notebook, Data Science Tools and Ecosystem are summarized"
   ]
  },
  {
   "cell_type": "markdown",
   "id": "af6f8ac4-b43c-4323-912e-0874a965d7eb",
   "metadata": {},
   "source": [
    "Exercise 4 - Create a markdown cell to list data science languages"
   ]
  },
  {
   "cell_type": "markdown",
   "id": "0eb58969-f3b3-479c-a73e-14ddd742c97a",
   "metadata": {},
   "source": [
    "# Some of the popular languages that Data Scientists use are:\n",
    "1. Python\n",
    "2. R\n",
    "3. Julia\n",
    "4. C/C++\n",
    "5. SQL\n",
    "6. Scala\n",
    "7. Java\n",
    "8. MATLAB\n",
    "9. JavaScript\n",
    "10. SAS  .... more "
   ]
  },
  {
   "cell_type": "markdown",
   "id": "cf2b6b7c-a9f4-41e6-a4d0-6c350778b0b3",
   "metadata": {},
   "source": [
    "Exercise 5 - Create a markdown cell to list data science libraries"
   ]
  },
  {
   "cell_type": "markdown",
   "id": "c36035d6-b940-43f0-b58e-1abab26e5da2",
   "metadata": {},
   "source": [
    "# Some of the commonly used libraries used by Data Scientists include:\n",
    "1. Pandas\n",
    "2. NumPy\n",
    "3. Matplotlib\n",
    "4. Seaborn \n",
    "5. Scikit-learn\n",
    "6. Keras\n",
    "7. TensorFlow\n",
    "8. Pytorch\n",
    "9. Apache Spark\n",
    "10. Vegas\n",
    "11. Big DL\n",
    "12. ggplot2"
   ]
  },
  {
   "cell_type": "markdown",
   "id": "3c43cfc8-5347-4c40-ba3e-2f14ada80752",
   "metadata": {},
   "source": [
    "Exercise 6 - Create a markdown cell with a table of Data Science tools"
   ]
  },
  {
   "cell_type": "markdown",
   "id": "f43819f1-a4e6-4527-910d-d0cd3f6b380f",
   "metadata": {},
   "source": [
    "| Data Science Tools |\n",
    "| --------------------- |\n",
    "| 1. TensorFlow |\n",
    "| 2. RStudio |\n",
    "| 3. Apache Spark |\n"
   ]
  },
  {
   "cell_type": "markdown",
   "id": "899f727c-88e3-4e86-875a-8aff0d992ff1",
   "metadata": {},
   "source": [
    "Exercise 7 - Create a markdown cell introducing arithmetic expression examples"
   ]
  },
  {
   "cell_type": "markdown",
   "id": "2542af59-1d5b-4d46-aa7b-b0ad455395cf",
   "metadata": {},
   "source": [
    "### Below are a few examples of evaluating arithmetic expressions in Python"
   ]
  },
  {
   "cell_type": "markdown",
   "id": "d83b2c20-d149-49be-ae4c-325905a30cd8",
   "metadata": {},
   "source": [
    "Exercise 8 - Create a code cell to multiply and add numbers"
   ]
  },
  {
   "cell_type": "code",
   "execution_count": 6,
   "id": "22268559-22dd-48ae-984f-72d0dae39adc",
   "metadata": {},
   "outputs": [
    {
     "data": {
      "text/plain": [
       "17"
      ]
     },
     "execution_count": 6,
     "metadata": {},
     "output_type": "execute_result"
    }
   ],
   "source": [
    "# This a simple arithmetic expression to mutiply then add integers\n",
    "(3*4)+5"
   ]
  },
  {
   "cell_type": "markdown",
   "id": "06f04df8-af10-4386-9b17-f08a2d17069c",
   "metadata": {},
   "source": [
    "Exercise 9 - Create a code cell to convert minutes to hours\n"
   ]
  },
  {
   "cell_type": "code",
   "execution_count": 9,
   "id": "838f32c3-c5c1-48c9-b8e5-c6e5a2cac86a",
   "metadata": {},
   "outputs": [
    {
     "name": "stdout",
     "output_type": "stream",
     "text": [
      "200 minutes equals to  3.3333333333333335 hours\n"
     ]
    }
   ],
   "source": [
    "#This will convert 200 minutes to hours by diving by 60\n",
    "print('200 minutes equals to ',200/60, 'hours')\n"
   ]
  },
  {
   "cell_type": "markdown",
   "id": "0a3b10a9-bd64-4576-b9b3-2b8714226df4",
   "metadata": {},
   "source": [
    "Exercise 10 - Insert a markdown cell to list Objectives"
   ]
  },
  {
   "cell_type": "markdown",
   "id": "bf33c7ed-3cd5-43e7-a098-587fefeccc16",
   "metadata": {},
   "source": [
    "**Objectives:**\n",
    "List popular languages for Data Science\n",
    "\n",
    "- Python\n",
    "- R\n",
    "- SQL\n",
    "- Scala\n",
    "- Julia"
   ]
  },
  {
   "cell_type": "markdown",
   "id": "c1470fff-e42a-4250-9a31-229b6227eafe",
   "metadata": {},
   "source": [
    "Exercise 11 - Create a markdown cell to indicate the Author's name"
   ]
  },
  {
   "cell_type": "markdown",
   "id": "cff753a8-868f-4251-815e-5aefd91ec302",
   "metadata": {},
   "source": [
    "## Author\n",
    "Sateewan"
   ]
  },
  {
   "cell_type": "code",
   "execution_count": null,
   "id": "54c2da11-4dbb-411c-921f-7e763a7d06fe",
   "metadata": {},
   "outputs": [],
   "source": []
  }
 ],
 "metadata": {
  "kernelspec": {
   "display_name": "Python 3 (ipykernel)",
   "language": "python",
   "name": "python3"
  },
  "language_info": {
   "codemirror_mode": {
    "name": "ipython",
    "version": 3
   },
   "file_extension": ".py",
   "mimetype": "text/x-python",
   "name": "python",
   "nbconvert_exporter": "python",
   "pygments_lexer": "ipython3",
   "version": "3.9.13"
  }
 },
 "nbformat": 4,
 "nbformat_minor": 5
}
